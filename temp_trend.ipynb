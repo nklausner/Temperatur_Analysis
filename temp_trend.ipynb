{
 "cells": [
  {
   "cell_type": "code",
   "execution_count": 1,
   "id": "d8e56827-33ef-48b0-bfb2-44fc12ff454c",
   "metadata": {},
   "outputs": [],
   "source": [
    "import pandas as pd\n",
    "import matplotlib.pyplot as plt\n",
    "import seaborn as sns\n",
    "import numpy as np"
   ]
  },
  {
   "cell_type": "code",
   "execution_count": 2,
   "id": "413f0eb6-2628-47ce-939c-96a66d914aee",
   "metadata": {},
   "outputs": [],
   "source": [
    "mystation = 'Frankfurt_Stadt'"
   ]
  },
  {
   "cell_type": "code",
   "execution_count": 3,
   "id": "0e3195d9-8392-492c-8609-a8efd74f16b4",
   "metadata": {},
   "outputs": [],
   "source": [
    "df = pd.read_csv(f'../data/ECA_blended_{mystation}/data.csv')"
   ]
  },
  {
   "cell_type": "code",
   "execution_count": 4,
   "id": "fcfe0464-371f-413b-863b-14e6dfca206e",
   "metadata": {},
   "outputs": [
    {
     "data": {
      "text/plain": [
       "151.4113620807666"
      ]
     },
     "execution_count": 4,
     "metadata": {},
     "output_type": "execute_result"
    }
   ],
   "source": [
    "df.shape[0] / 365.25"
   ]
  },
  {
   "cell_type": "code",
   "execution_count": 5,
   "id": "12a80d9a-87be-4121-86a1-90ae4613712a",
   "metadata": {},
   "outputs": [
    {
     "data": {
      "text/html": [
       "<div>\n",
       "<style scoped>\n",
       "    .dataframe tbody tr th:only-of-type {\n",
       "        vertical-align: middle;\n",
       "    }\n",
       "\n",
       "    .dataframe tbody tr th {\n",
       "        vertical-align: top;\n",
       "    }\n",
       "\n",
       "    .dataframe thead th {\n",
       "        text-align: right;\n",
       "    }\n",
       "</style>\n",
       "<table border=\"1\" class=\"dataframe\">\n",
       "  <thead>\n",
       "    <tr style=\"text-align: right;\">\n",
       "      <th></th>\n",
       "      <th>SOUID</th>\n",
       "      <th>DATE</th>\n",
       "      <th>TG</th>\n",
       "      <th>Q_TG</th>\n",
       "    </tr>\n",
       "  </thead>\n",
       "  <tbody>\n",
       "    <tr>\n",
       "      <th>0</th>\n",
       "      <td>122376</td>\n",
       "      <td>18700101</td>\n",
       "      <td>-24</td>\n",
       "      <td>0</td>\n",
       "    </tr>\n",
       "    <tr>\n",
       "      <th>1</th>\n",
       "      <td>122376</td>\n",
       "      <td>18700102</td>\n",
       "      <td>26</td>\n",
       "      <td>0</td>\n",
       "    </tr>\n",
       "    <tr>\n",
       "      <th>2</th>\n",
       "      <td>122376</td>\n",
       "      <td>18700103</td>\n",
       "      <td>25</td>\n",
       "      <td>0</td>\n",
       "    </tr>\n",
       "    <tr>\n",
       "      <th>3</th>\n",
       "      <td>122376</td>\n",
       "      <td>18700104</td>\n",
       "      <td>26</td>\n",
       "      <td>0</td>\n",
       "    </tr>\n",
       "    <tr>\n",
       "      <th>4</th>\n",
       "      <td>122376</td>\n",
       "      <td>18700105</td>\n",
       "      <td>12</td>\n",
       "      <td>0</td>\n",
       "    </tr>\n",
       "    <tr>\n",
       "      <th>...</th>\n",
       "      <td>...</td>\n",
       "      <td>...</td>\n",
       "      <td>...</td>\n",
       "      <td>...</td>\n",
       "    </tr>\n",
       "    <tr>\n",
       "      <th>55298</th>\n",
       "      <td>122364</td>\n",
       "      <td>20210527</td>\n",
       "      <td>107</td>\n",
       "      <td>0</td>\n",
       "    </tr>\n",
       "    <tr>\n",
       "      <th>55299</th>\n",
       "      <td>122364</td>\n",
       "      <td>20210528</td>\n",
       "      <td>140</td>\n",
       "      <td>0</td>\n",
       "    </tr>\n",
       "    <tr>\n",
       "      <th>55300</th>\n",
       "      <td>122364</td>\n",
       "      <td>20210529</td>\n",
       "      <td>149</td>\n",
       "      <td>0</td>\n",
       "    </tr>\n",
       "    <tr>\n",
       "      <th>55301</th>\n",
       "      <td>122364</td>\n",
       "      <td>20210530</td>\n",
       "      <td>156</td>\n",
       "      <td>0</td>\n",
       "    </tr>\n",
       "    <tr>\n",
       "      <th>55302</th>\n",
       "      <td>122364</td>\n",
       "      <td>20210531</td>\n",
       "      <td>170</td>\n",
       "      <td>0</td>\n",
       "    </tr>\n",
       "  </tbody>\n",
       "</table>\n",
       "<p>55303 rows × 4 columns</p>\n",
       "</div>"
      ],
      "text/plain": [
       "        SOUID      DATE     TG   Q_TG\n",
       "0      122376  18700101    -24      0\n",
       "1      122376  18700102     26      0\n",
       "2      122376  18700103     25      0\n",
       "3      122376  18700104     26      0\n",
       "4      122376  18700105     12      0\n",
       "...       ...       ...    ...    ...\n",
       "55298  122364  20210527    107      0\n",
       "55299  122364  20210528    140      0\n",
       "55300  122364  20210529    149      0\n",
       "55301  122364  20210530    156      0\n",
       "55302  122364  20210531    170      0\n",
       "\n",
       "[55303 rows x 4 columns]"
      ]
     },
     "execution_count": 5,
     "metadata": {},
     "output_type": "execute_result"
    }
   ],
   "source": [
    "df"
   ]
  },
  {
   "cell_type": "code",
   "execution_count": 6,
   "id": "751e1742-787d-4d93-bfd4-b160d826bc4e",
   "metadata": {},
   "outputs": [],
   "source": [
    "df.columns = [name.strip() for name in df.columns]"
   ]
  },
  {
   "cell_type": "code",
   "execution_count": 7,
   "id": "54c81122-518b-4e41-9a4c-a023785d4f87",
   "metadata": {},
   "outputs": [],
   "source": [
    "df['date'] = pd.to_datetime(df['DATE'], format='%Y%m%d')"
   ]
  },
  {
   "cell_type": "code",
   "execution_count": 8,
   "id": "857a04b1-0305-439c-aa4a-1053085688f4",
   "metadata": {},
   "outputs": [],
   "source": [
    "df['year'] = df['date'].dt.year"
   ]
  },
  {
   "cell_type": "code",
   "execution_count": 9,
   "id": "cc5f4a48-eb5f-4279-a542-46df86d58dca",
   "metadata": {},
   "outputs": [],
   "source": [
    "df.replace(-9999, np.nan, inplace=True)"
   ]
  },
  {
   "cell_type": "code",
   "execution_count": 10,
   "id": "3f043376-7a63-4d98-a1df-9362d70156de",
   "metadata": {},
   "outputs": [],
   "source": [
    "df.dropna(axis=0, inplace=True)"
   ]
  },
  {
   "cell_type": "code",
   "execution_count": 11,
   "id": "51adc86c-f5e5-4216-9a57-06298998bb7a",
   "metadata": {},
   "outputs": [],
   "source": [
    "df = df.groupby(['year'])[['TG']].mean().reset_index()"
   ]
  },
  {
   "cell_type": "code",
   "execution_count": 12,
   "id": "0aba2a7e-6e53-4a27-a917-dfa7a9c13cf2",
   "metadata": {},
   "outputs": [],
   "source": [
    "df.drop(df.tail(1).index,inplace=True)"
   ]
  },
  {
   "cell_type": "code",
   "execution_count": 13,
   "id": "1c0ad969-e3f9-41e7-af30-496cbfe23fcf",
   "metadata": {},
   "outputs": [],
   "source": [
    "df.TG = df.TG / 10"
   ]
  },
  {
   "cell_type": "code",
   "execution_count": 14,
   "id": "a59ec3d7-373d-42b0-b8a1-c4f1013e95f8",
   "metadata": {},
   "outputs": [
    {
     "data": {
      "text/html": [
       "<div>\n",
       "<style scoped>\n",
       "    .dataframe tbody tr th:only-of-type {\n",
       "        vertical-align: middle;\n",
       "    }\n",
       "\n",
       "    .dataframe tbody tr th {\n",
       "        vertical-align: top;\n",
       "    }\n",
       "\n",
       "    .dataframe thead th {\n",
       "        text-align: right;\n",
       "    }\n",
       "</style>\n",
       "<table border=\"1\" class=\"dataframe\">\n",
       "  <thead>\n",
       "    <tr style=\"text-align: right;\">\n",
       "      <th></th>\n",
       "      <th>year</th>\n",
       "      <th>TG</th>\n",
       "    </tr>\n",
       "  </thead>\n",
       "  <tbody>\n",
       "    <tr>\n",
       "      <th>0</th>\n",
       "      <td>1870</td>\n",
       "      <td>8.978297</td>\n",
       "    </tr>\n",
       "    <tr>\n",
       "      <th>1</th>\n",
       "      <td>1871</td>\n",
       "      <td>8.204110</td>\n",
       "    </tr>\n",
       "    <tr>\n",
       "      <th>2</th>\n",
       "      <td>1872</td>\n",
       "      <td>10.742896</td>\n",
       "    </tr>\n",
       "    <tr>\n",
       "      <th>3</th>\n",
       "      <td>1873</td>\n",
       "      <td>10.451781</td>\n",
       "    </tr>\n",
       "    <tr>\n",
       "      <th>4</th>\n",
       "      <td>1874</td>\n",
       "      <td>9.837534</td>\n",
       "    </tr>\n",
       "    <tr>\n",
       "      <th>...</th>\n",
       "      <td>...</td>\n",
       "      <td>...</td>\n",
       "    </tr>\n",
       "    <tr>\n",
       "      <th>146</th>\n",
       "      <td>2016</td>\n",
       "      <td>11.569126</td>\n",
       "    </tr>\n",
       "    <tr>\n",
       "      <th>147</th>\n",
       "      <td>2017</td>\n",
       "      <td>11.815616</td>\n",
       "    </tr>\n",
       "    <tr>\n",
       "      <th>148</th>\n",
       "      <td>2018</td>\n",
       "      <td>12.943836</td>\n",
       "    </tr>\n",
       "    <tr>\n",
       "      <th>149</th>\n",
       "      <td>2019</td>\n",
       "      <td>12.337808</td>\n",
       "    </tr>\n",
       "    <tr>\n",
       "      <th>150</th>\n",
       "      <td>2020</td>\n",
       "      <td>12.602459</td>\n",
       "    </tr>\n",
       "  </tbody>\n",
       "</table>\n",
       "<p>151 rows × 2 columns</p>\n",
       "</div>"
      ],
      "text/plain": [
       "     year         TG\n",
       "0    1870   8.978297\n",
       "1    1871   8.204110\n",
       "2    1872  10.742896\n",
       "3    1873  10.451781\n",
       "4    1874   9.837534\n",
       "..    ...        ...\n",
       "146  2016  11.569126\n",
       "147  2017  11.815616\n",
       "148  2018  12.943836\n",
       "149  2019  12.337808\n",
       "150  2020  12.602459\n",
       "\n",
       "[151 rows x 2 columns]"
      ]
     },
     "execution_count": 14,
     "metadata": {},
     "output_type": "execute_result"
    }
   ],
   "source": [
    "df"
   ]
  },
  {
   "cell_type": "code",
   "execution_count": 15,
   "id": "2cdde41a-4dc4-42b3-acc4-d153f72d4312",
   "metadata": {},
   "outputs": [
    {
     "data": {
      "image/png": "[encoded data removed]",
      "text/plain": [
       "<Figure size 2160x720 with 1 Axes>"
      ]
     },
     "metadata": {
      "needs_background": "light"
     },
     "output_type": "display_data"
    }
   ],
   "source": [
    "plt.figure(figsize=(30,10))\n",
    "sns.scatterplot(x=df.year, y=df.TG)\n",
    "plt.title(f'Average yearly temperatur at the station {mystation}, Germany')\n",
    "plt.ylabel('Temperatur in Celsius')\n",
    "plt.show()"
   ]
  },
  {
   "cell_type": "code",
   "execution_count": 16,
   "id": "5a8b10b8-3d2e-46aa-8d2f-a392e4d6ec3a",
   "metadata": {},
   "outputs": [],
   "source": [
    "from sklearn.compose import make_column_transformer\n",
    "from sklearn.preprocessing import PolynomialFeatures\n",
    "from sklearn.linear_model import LinearRegression"
   ]
  },
  {
   "cell_type": "code",
   "execution_count": 17,
   "id": "ea5f37bc-e793-4a9f-8f6d-65abd0f3b5b9",
   "metadata": {},
   "outputs": [],
   "source": [
    "pf = PolynomialFeatures(degree=2, include_bias=False)"
   ]
  },
  {
   "cell_type": "code",
   "execution_count": 18,
   "id": "8cc6cec7-5ce3-4c10-9a6e-0a08910c1310",
   "metadata": {},
   "outputs": [],
   "source": [
    "polytransformer = make_column_transformer(\n",
    "    (pf, ['year'])\n",
    ")"
   ]
  },
  {
   "cell_type": "code",
   "execution_count": 19,
   "id": "ccfceb96-eaaf-4647-90cf-23194c4be33a",
   "metadata": {},
   "outputs": [],
   "source": [
    "dfpoly = polytransformer.fit_transform(df)"
   ]
  },
  {
   "cell_type": "code",
   "execution_count": 20,
   "id": "fb62b24b-393a-4f6a-b51f-cec55da8e57f",
   "metadata": {},
   "outputs": [],
   "source": [
    "mp = LinearRegression()"
   ]
  },
  {
   "cell_type": "code",
   "execution_count": 21,
   "id": "8ea81ec9-0ed9-43da-b547-0a9a3c3fa773",
   "metadata": {},
   "outputs": [
    {
     "data": {
      "text/plain": [
       "LinearRegression()"
      ]
     },
     "execution_count": 21,
     "metadata": {},
     "output_type": "execute_result"
    }
   ],
   "source": [
    "mp.fit(dfpoly, df.TG)"
   ]
  },
  {
   "cell_type": "code",
   "execution_count": 22,
   "id": "dd0561a1-e68a-48a8-b4f4-2007b93bb71e",
   "metadata": {},
   "outputs": [],
   "source": [
    "df['predict'] = mp.predict(dfpoly)"
   ]
  },
  {
   "cell_type": "code",
   "execution_count": 23,
   "id": "2c27f2d8-1da2-4c3a-b439-e62ba50e57b3",
   "metadata": {},
   "outputs": [
    {
     "data": {
      "image/png": "[encoded data removed]",
      "text/plain": [
       "<Figure size 2160x720 with 1 Axes>"
      ]
     },
     "metadata": {
      "needs_background": "light"
     },
     "output_type": "display_data"
    }
   ],
   "source": [
    "plt.figure(figsize=(30,10))\n",
    "sns.scatterplot(x=df.year, y=df.TG)\n",
    "sns.lineplot(x=df.year, y=df.predict)\n",
    "plt.title(f'Average yearly temperatur at the station {mystation}, Germany')\n",
    "plt.ylabel('Temperatur in Celsius')\n",
    "plt.show()"
   ]
  },
  {
   "cell_type": "code",
   "execution_count": null,
   "id": "efc319a9-c2d7-4b0b-a713-8b0f08180744",
   "metadata": {},
   "outputs": [],
   "source": []
  }
 ],
 "metadata": {
  "kernelspec": {
   "display_name": "Python 3",
   "language": "python",
   "name": "python3"
  },
  "language_info": {
   "codemirror_mode": {
    "name": "ipython",
    "version": 3
   },
   "file_extension": ".py",
   "mimetype": "text/x-python",
   "name": "python",
   "nbconvert_exporter": "python",
   "pygments_lexer": "ipython3",
   "version": "3.8.8"
  }
 },
 "nbformat": 4,
 "nbformat_minor": 5
}
